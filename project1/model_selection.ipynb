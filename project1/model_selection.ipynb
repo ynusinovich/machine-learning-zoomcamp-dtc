{
 "cells": [
  {
   "cell_type": "markdown",
   "metadata": {},
   "source": [
    "# Imports"
   ]
  },
  {
   "cell_type": "code",
   "execution_count": 2,
   "metadata": {},
   "outputs": [],
   "source": [
    "import pandas as pd\n",
    "import numpy as np\n",
    "from sklearn.feature_extraction import DictVectorizer\n",
    "from sklearn.metrics import f1_score, precision_score, recall_score\n",
    "from sklearn.tree import DecisionTreeClassifier\n",
    "from sklearn.ensemble import RandomForestClassifier\n",
    "import xgboost as xgb"
   ]
  },
  {
   "cell_type": "markdown",
   "metadata": {},
   "source": [
    "# Load Data"
   ]
  },
  {
   "cell_type": "code",
   "execution_count": 3,
   "metadata": {},
   "outputs": [],
   "source": [
    "y_train = np.load('y_train.npy')\n",
    "y_val = np.load('y_val.npy')\n",
    "y_test = np.load('y_test.npy')\n",
    "\n",
    "df_train = pd.read_csv('df_train.csv')\n",
    "df_val = pd.read_csv('df_val.csv')\n",
    "df_test = pd.read_csv('df_test.csv')"
   ]
  },
  {
   "cell_type": "markdown",
   "metadata": {},
   "source": [
    "# Train Vectorizer"
   ]
  },
  {
   "cell_type": "code",
   "execution_count": 4,
   "metadata": {},
   "outputs": [],
   "source": [
    "dv = DictVectorizer(sparse=True)\n",
    "\n",
    "train_dict = df_train.to_dict(orient='records')\n",
    "X_train = dv.fit_transform(train_dict)\n",
    "\n",
    "val_dict = df_val.to_dict(orient='records')\n",
    "X_val = dv.transform(val_dict)"
   ]
  },
  {
   "cell_type": "markdown",
   "metadata": {},
   "source": [
    "# Decision Tree"
   ]
  },
  {
   "cell_type": "code",
   "execution_count": 5,
   "metadata": {},
   "outputs": [
    {
     "name": "stdout",
     "output_type": "stream",
     "text": [
      "f-1 score: 0.429\n",
      "precision score: 0.45\n",
      "recall score: 0.409\n"
     ]
    }
   ],
   "source": [
    "dt = DecisionTreeClassifier(random_state=1)\n",
    "dt.fit(X_train, y_train)\n",
    "\n",
    "y_pred_proba = dt.predict_proba(X_val)[:,1]\n",
    "\n",
    "# set the threshold\n",
    "threshold = 0.5\n",
    "\n",
    "# convert probabilities to class predictions\n",
    "y_pred = (y_pred_proba >= threshold).astype(int)\n",
    "\n",
    "f1_rounded = round(f1_score(y_val, y_pred), 3)\n",
    "precision_rounded = round(precision_score(y_val, y_pred), 3)\n",
    "recall_rounded = round(recall_score(y_val, y_pred), 3)\n",
    "print(\"f-1 score:\", f1_rounded)\n",
    "print(\"precision score:\", precision_rounded)\n",
    "print(\"recall score:\", recall_rounded)"
   ]
  },
  {
   "cell_type": "markdown",
   "metadata": {},
   "source": [
    "# Random Forest"
   ]
  },
  {
   "cell_type": "code",
   "execution_count": 6,
   "metadata": {},
   "outputs": [
    {
     "name": "stdout",
     "output_type": "stream",
     "text": [
      "f-1 score: 0.306\n",
      "precision score: 0.197\n",
      "recall score: 0.682\n"
     ]
    }
   ],
   "source": [
    "rf = RandomForestClassifier(random_state=1, n_jobs=-1)\n",
    "rf.fit(X_train, y_train)\n",
    "\n",
    "y_pred_proba = rf.predict_proba(X_val)[:,1]\n",
    "\n",
    "# set the threshold\n",
    "threshold = 0.085\n",
    "\n",
    "# convert probabilities to class predictions\n",
    "y_pred = (y_pred_proba >= threshold).astype(int)\n",
    "\n",
    "f1_rounded = round(f1_score(y_val, y_pred), 3)\n",
    "precision_rounded = round(precision_score(y_val, y_pred), 3)\n",
    "recall_rounded = round(recall_score(y_val, y_pred), 3)\n",
    "print(\"f-1 score:\", f1_rounded)\n",
    "print(\"precision score:\", precision_rounded)\n",
    "print(\"recall score:\", recall_rounded)"
   ]
  },
  {
   "cell_type": "markdown",
   "metadata": {},
   "source": [
    "# XGBoost"
   ]
  },
  {
   "cell_type": "code",
   "execution_count": 7,
   "metadata": {},
   "outputs": [],
   "source": [
    "features = list(dv.get_feature_names_out())\n",
    "dtrain = xgb.DMatrix(X_train, label=y_train, feature_names=features)\n",
    "dval = xgb.DMatrix(X_val, label=y_val, feature_names=features)"
   ]
  },
  {
   "cell_type": "code",
   "execution_count": 124,
   "metadata": {},
   "outputs": [],
   "source": [
    "watchlist = [(dtrain, 'train'), (dval, 'val')]"
   ]
  },
  {
   "cell_type": "code",
   "execution_count": 125,
   "metadata": {},
   "outputs": [
    {
     "name": "stdout",
     "output_type": "stream",
     "text": [
      "[0]\ttrain-logloss:0.26694\tval-logloss:0.28041\n",
      "[5]\ttrain-logloss:0.16287\tval-logloss:0.22944\n"
     ]
    },
    {
     "name": "stdout",
     "output_type": "stream",
     "text": [
      "[10]\ttrain-logloss:0.11860\tval-logloss:0.20337\n",
      "[15]\ttrain-logloss:0.09699\tval-logloss:0.20093\n",
      "[20]\ttrain-logloss:0.08547\tval-logloss:0.19647\n",
      "[25]\ttrain-logloss:0.07239\tval-logloss:0.19343\n",
      "[30]\ttrain-logloss:0.06415\tval-logloss:0.19017\n",
      "[35]\ttrain-logloss:0.05591\tval-logloss:0.19370\n",
      "[40]\ttrain-logloss:0.04914\tval-logloss:0.19028\n",
      "[45]\ttrain-logloss:0.04396\tval-logloss:0.19212\n",
      "[50]\ttrain-logloss:0.04090\tval-logloss:0.19056\n",
      "[55]\ttrain-logloss:0.03731\tval-logloss:0.19645\n",
      "[60]\ttrain-logloss:0.03423\tval-logloss:0.20221\n",
      "[65]\ttrain-logloss:0.03202\tval-logloss:0.20567\n",
      "[70]\ttrain-logloss:0.02988\tval-logloss:0.20938\n",
      "[75]\ttrain-logloss:0.02786\tval-logloss:0.21293\n",
      "[80]\ttrain-logloss:0.02600\tval-logloss:0.21596\n",
      "[85]\ttrain-logloss:0.02479\tval-logloss:0.22009\n",
      "[90]\ttrain-logloss:0.02352\tval-logloss:0.22489\n",
      "[95]\ttrain-logloss:0.02240\tval-logloss:0.22801\n",
      "[100]\ttrain-logloss:0.02144\tval-logloss:0.23167\n",
      "[105]\ttrain-logloss:0.02068\tval-logloss:0.23432\n",
      "[110]\ttrain-logloss:0.02003\tval-logloss:0.23473\n",
      "[115]\ttrain-logloss:0.01941\tval-logloss:0.23448\n",
      "[120]\ttrain-logloss:0.01891\tval-logloss:0.23466\n",
      "[125]\ttrain-logloss:0.01833\tval-logloss:0.23747\n",
      "[130]\ttrain-logloss:0.01790\tval-logloss:0.23988\n",
      "[135]\ttrain-logloss:0.01739\tval-logloss:0.24141\n",
      "[140]\ttrain-logloss:0.01704\tval-logloss:0.24471\n",
      "[145]\ttrain-logloss:0.01675\tval-logloss:0.24519\n",
      "[150]\ttrain-logloss:0.01637\tval-logloss:0.24696\n",
      "[155]\ttrain-logloss:0.01604\tval-logloss:0.24878\n",
      "[160]\ttrain-logloss:0.01571\tval-logloss:0.25035\n",
      "[165]\ttrain-logloss:0.01539\tval-logloss:0.25257\n",
      "[170]\ttrain-logloss:0.01513\tval-logloss:0.25398\n",
      "[175]\ttrain-logloss:0.01488\tval-logloss:0.25533\n",
      "[180]\ttrain-logloss:0.01466\tval-logloss:0.25820\n",
      "[185]\ttrain-logloss:0.01448\tval-logloss:0.25954\n",
      "[190]\ttrain-logloss:0.01429\tval-logloss:0.26059\n",
      "[195]\ttrain-logloss:0.01410\tval-logloss:0.26168\n",
      "[199]\ttrain-logloss:0.01391\tval-logloss:0.26185\n"
     ]
    }
   ],
   "source": [
    "xgb_params = {\n",
    "    'eta': 0.3, \n",
    "    'max_depth': 6,\n",
    "    'min_child_weight': 1,\n",
    "    \n",
    "    'objective': 'binary:logistic',\n",
    "    'nthread': 8,\n",
    "    \n",
    "    'seed': 1,\n",
    "    'verbosity': 1,\n",
    "}\n",
    "\n",
    "model = xgb.train(xgb_params, dtrain, num_boost_round=200,\n",
    "                  verbose_eval=5,\n",
    "                  evals=watchlist)"
   ]
  },
  {
   "cell_type": "code",
   "execution_count": 126,
   "metadata": {},
   "outputs": [
    {
     "name": "stdout",
     "output_type": "stream",
     "text": [
      "f-1 score: 0.5\n",
      "precision score: 0.462\n",
      "recall score: 0.545\n"
     ]
    }
   ],
   "source": [
    "y_pred_proba = model.predict(dval)\n",
    "\n",
    "# set the threshold\n",
    "threshold = 0.057\n",
    "\n",
    "# convert probabilities to class predictions\n",
    "y_pred = (y_pred_proba >= threshold).astype(int)\n",
    "\n",
    "f1_rounded = round(f1_score(y_val, y_pred), 3)\n",
    "precision_rounded = round(precision_score(y_val, y_pred), 3)\n",
    "recall_rounded = round(recall_score(y_val, y_pred), 3)\n",
    "print(\"f-1 score:\", f1_rounded)\n",
    "print(\"precision score:\", precision_rounded)\n",
    "print(\"recall score:\", recall_rounded)"
   ]
  },
  {
   "cell_type": "code",
   "execution_count": null,
   "metadata": {},
   "outputs": [],
   "source": []
  }
 ],
 "metadata": {
  "kernelspec": {
   "display_name": "project1-H1cY6aF9",
   "language": "python",
   "name": "python3"
  },
  "language_info": {
   "codemirror_mode": {
    "name": "ipython",
    "version": 3
   },
   "file_extension": ".py",
   "mimetype": "text/x-python",
   "name": "python",
   "nbconvert_exporter": "python",
   "pygments_lexer": "ipython3",
   "version": "3.10.13"
  }
 },
 "nbformat": 4,
 "nbformat_minor": 2
}
